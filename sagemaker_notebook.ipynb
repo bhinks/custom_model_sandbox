{
 "cells": [
  {
   "cell_type": "code",
   "execution_count": null,
   "id": "576df9e4",
   "metadata": {
    "tags": []
   },
   "outputs": [],
   "source": [
    "# Import libraries\n",
    "import os\n",
    "import boto3\n",
    "import sagemaker\n",
    "\n",
    "from sagemaker import get_execution_role"
   ]
  },
  {
   "cell_type": "code",
   "execution_count": null,
   "id": "5c8c849f",
   "metadata": {
    "tags": []
   },
   "outputs": [],
   "source": [
    "# initialize preconfigurations\n",
    "region = boto3.Session().region_name\n",
    "role = get_execution_role()"
   ]
  },
  {
   "cell_type": "code",
   "execution_count": null,
   "id": "5435448a",
   "metadata": {
    "tags": []
   },
   "outputs": [],
   "source": [
    "print(region)"
   ]
  },
  {
   "cell_type": "code",
   "execution_count": null,
   "id": "9d4f1e24",
   "metadata": {
    "tags": []
   },
   "outputs": [],
   "source": [
    "print(role)"
   ]
  },
  {
   "cell_type": "code",
   "execution_count": null,
   "id": "d6c25554",
   "metadata": {
    "tags": []
   },
   "outputs": [],
   "source": [
    "bucket = 'sagemaker-bhinks-demo'  #sagemaker.Session().default_bucket()\n",
    "\n",
    "bucket_path = \"https://s3-{}.amazonaws.com/{}\".format(region, bucket)\n",
    "\n",
    "print(bucket)\n",
    "print(bucket_path)"
   ]
  },
  {
   "cell_type": "code",
   "execution_count": null,
   "id": "fe44d726",
   "metadata": {
    "tags": []
   },
   "outputs": [],
   "source": [
    "!conda install -y -c conda-forge scikit-learn==0.24.2"
   ]
  },
  {
   "cell_type": "code",
   "execution_count": null,
   "id": "aa6907ee",
   "metadata": {
    "tags": []
   },
   "outputs": [],
   "source": [
    "model_file_name = \"deploy/model.pkl\""
   ]
  },
  {
   "cell_type": "code",
   "execution_count": null,
   "id": "af4a93a3",
   "metadata": {
    "tags": []
   },
   "outputs": [],
   "source": [
    "# Load the pre-trained model, and test it before deployment\n",
    "import joblib\n",
    "import sklearn\n",
    "\n",
    "mymodel = joblib.load(model_file_name)"
   ]
  },
  {
   "cell_type": "code",
   "execution_count": null,
   "id": "4e9d7f65",
   "metadata": {
    "tags": []
   },
   "outputs": [],
   "source": [
    "#import test file\n",
    "import pandas as pd\n",
    "\n",
    "\n",
    "file_name = \"data/10kDiabetes.csv\"\n",
    "\n",
    "mypayload = pd.read_csv(file_name).drop(\"readmitted\", axis=1)\n",
    "\n",
    "mypayload = mypayload.rename(columns={\n",
    "    \"glyburide.metformin\": \"glyburide_metformin\", \n",
    "    \"glipizide.metformin\": \"glipizide_metformin\",\n",
    "    \"glimepiride.pioglitazone\": \"glimepiride_pioglitazone\",\n",
    "    \"metformin.rosiglitazone\": \"metformin_rosiglitazone\",\n",
    "    \"metformin.pioglitazone\": \"metformin_pioglitazone\"\n",
    "})\n",
    "    \n",
    "print(mypayload)    \n",
    "\n",
    "mymodel.predict(mypayload)"
   ]
  },
  {
   "cell_type": "code",
   "execution_count": null,
   "id": "c74881ee",
   "metadata": {
    "tags": []
   },
   "outputs": [],
   "source": [
    "# Create a tar.gz model file as this is the format required by Sagemaker for deployment.\n",
    "mymodel.save_model(model_file_name)"
   ]
  },
  {
   "cell_type": "code",
   "execution_count": null,
   "id": "f17b98fe",
   "metadata": {
    "tags": []
   },
   "outputs": [],
   "source": [
    "!tar czvf model.tar.gz $model_file_name"
   ]
  },
  {
   "cell_type": "code",
   "execution_count": null,
   "id": "1b95761e",
   "metadata": {
    "tags": []
   },
   "outputs": [],
   "source": [
    "# Upload the pre-trained model to S3\n",
    "\n",
    "#### prefix in S3\n",
    "prefix = \"sagemaker/sagemaker-bhinks-demo\"\n",
    "\n",
    "fObj = open(\"model.tar.gz\", \"rb\")\n",
    "key = os.path.join(prefix, model_file_name, \"model.tar.gz\")\n",
    "print(key)\n",
    "boto3.Session().resource(\"s3\").Bucket(bucket).Object(key).upload_fileobj(fObj)"
   ]
  },
  {
   "cell_type": "code",
   "execution_count": null,
   "id": "abac585c",
   "metadata": {},
   "outputs": [],
   "source": [
    "## Set up hosting for the model\n",
    "'''\n",
    "Import model into hosting\n",
    "This involves creating a SageMaker model from the model file previously uploaded to S3.\n",
    "'''"
   ]
  },
  {
   "cell_type": "code",
   "execution_count": null,
   "id": "2def56aa",
   "metadata": {
    "tags": []
   },
   "outputs": [],
   "source": [
    "# Create a Sagemaker model\n",
    "from sagemaker.amazon.amazon_estimator import get_image_uri\n",
    "\n",
    "#### Get the built-in xgboost container image in Sagemaker to host our model\n",
    "container = get_image_uri(boto3.Session().region_name, \"sklearn\", \"0.23-1\")"
   ]
  },
  {
   "cell_type": "code",
   "execution_count": null,
   "id": "9bdc92d0",
   "metadata": {
    "tags": []
   },
   "outputs": [],
   "source": [
    "%%time\n",
    "from time import gmtime, strftime\n",
    "\n",
    "model_name = \"model\" + strftime(\"%Y-%m-%d-%H-%M-%S\", gmtime())\n",
    "\n",
    "model_url = \"https://s3-{}.amazonaws.com/{}/{}\".format(region, bucket, key)\n",
    "\n",
    "sm_client = boto3.client(\"sagemaker\")\n",
    "\n",
    "print(model_url)\n",
    "\n",
    "primary_container = {\n",
    "    \"Image\": container,\n",
    "    \"ModelDataUrl\": model_url,\n",
    "}\n",
    "\n",
    "create_model_response2 = sm_client.create_model(\n",
    "    ModelName=model_name, ExecutionRoleArn=role, PrimaryContainer=primary_container\n",
    ")\n",
    "\n",
    "print(create_model_response2[\"ModelArn\"])"
   ]
  },
  {
   "cell_type": "code",
   "execution_count": null,
   "id": "478d3403",
   "metadata": {
    "tags": []
   },
   "outputs": [],
   "source": [
    "# Create endpoint configuration\n",
    "'''\n",
    "Create an endpoint configuration, that describes the distribution of traffic across the models, whether split, shadowed, or sampled in some way. \n",
    "In addition, the endpoint configuration describes the instance type required for model deployment.\n",
    "'''\n",
    "from time import gmtime, strftime\n",
    "\n",
    "endpoint_config_name = \"sagemaker-bhinks-demo-endpointconfig-\" + strftime(\"%Y-%m-%d-%H-%M-%S\", gmtime())\n",
    "\n",
    "print(endpoint_config_name)\n",
    "\n",
    "create_endpoint_config_response = sm_client.create_endpoint_config(\n",
    "    EndpointConfigName=endpoint_config_name,\n",
    "    ProductionVariants=[\n",
    "        {\n",
    "            \"InstanceType\": \"ml.m4.xlarge\",\n",
    "            \"InitialInstanceCount\": 1,\n",
    "            \"InitialVariantWeight\": 1,\n",
    "            \"ModelName\": model_name,\n",
    "            \"VariantName\": \"AllTraffic\",\n",
    "        }\n",
    "    ],\n",
    ")\n",
    "\n",
    "print(\"Endpoint Config Arn: \" + create_endpoint_config_response[\"EndpointConfigArn\"])"
   ]
  },
  {
   "cell_type": "code",
   "execution_count": null,
   "id": "d4918e5a",
   "metadata": {
    "tags": []
   },
   "outputs": [],
   "source": [
    "# Create endpoint\n",
    "'''\n",
    "Lastly, you create the endpoint that serves up the model, through specifying the name and configuration defined above. \n",
    "The end result is an endpoint that can be validated and incorporated into production applications.\n",
    "'''\n",
    "import time\n",
    "endpoint_name = \"sagemaker-bhinks-demo-endpoint-\" + strftime(\"%Y-%m-%d-%H-%M-%S\", gmtime())\n",
    "print(endpoint_name)\n",
    "create_endpoint_response = sm_client.create_endpoint(\n",
    "    EndpointName=endpoint_name, EndpointConfigName=endpoint_config_name\n",
    ")\n",
    "print(create_endpoint_response[\"EndpointArn\"])\n",
    "\n",
    "resp = sm_client.describe_endpoint(EndpointName=endpoint_name)\n",
    "status = resp[\"EndpointStatus\"]\n",
    "print(\"Status: \" + status)\n",
    "\n",
    "while status == \"Creating\":\n",
    "    time.sleep(60)\n",
    "    resp = sm_client.describe_endpoint(EndpointName=endpoint_name)\n",
    "    status = resp[\"EndpointStatus\"]\n",
    "    print(\"Status: \" + status)\n",
    "\n",
    "print(\"Arn: \" + resp[\"EndpointArn\"])\n",
    "print(\"Status: \" + status)"
   ]
  },
  {
   "cell_type": "code",
   "execution_count": null,
   "id": "b32e3cfe",
   "metadata": {
    "tags": []
   },
   "outputs": [],
   "source": [
    "# Validate the model for use\n",
    "'''\n",
    "Now you can obtain the endpoint from the client library using the result from previous operations \n",
    "and generate classifications from the model using that endpoint.\n",
    "'''\n",
    "runtime_client = boto3.client(\"runtime.sagemaker\")"
   ]
  },
  {
   "cell_type": "code",
   "execution_count": null,
   "id": "54c402ce",
   "metadata": {},
   "outputs": [],
   "source": [
    "%%time\n",
    "import json\n",
    "\n",
    "\n",
    "file_name = \"data/10kDiabetes.csv\"\n",
    "\n",
    "with open(file_name, \"r\") as f:\n",
    "    payload = f.read().strip()\n",
    "    \n",
    "    \n",
    "print(\"Payload :\\n\")\n",
    "\n",
    "print(payload)\n",
    "print()\n",
    "\n",
    "response = runtime_client.invoke_endpoint(\n",
    "    EndpointName=endpoint_name, ContentType=\"text/csv\", Body=payload\n",
    ")\n",
    "\n",
    "##print(response)\n",
    "\n",
    "print(\"Results :\\n\")\n",
    "print()\n",
    "\n",
    "result = response[\"Body\"].read().decode(\"utf-8\")\n",
    "\n",
    "# Unpack response\n",
    "print(\"\\nPredicted Class Probabilities: {}.\".format(result))\n",
    "classes = ['0', '1']"
   ]
  },
  {
   "cell_type": "code",
   "execution_count": null,
   "id": "439481ec",
   "metadata": {},
   "outputs": [],
   "source": [
    "# Delete the Endpoint\n",
    "# sm_client.delete_endpoint(EndpointName=endpoint_name)\n",
    "# runtime_client.delete_endpoint(EndpointName=endpoint_name)"
   ]
  }
 ],
 "metadata": {
  "kernelspec": {
   "display_name": "conda_amazonei_pytorch_latest_p37",
   "language": "python",
   "name": "conda_amazonei_pytorch_latest_p37"
  },
  "language_info": {
   "codemirror_mode": {
    "name": "ipython",
    "version": 3
   },
   "file_extension": ".py",
   "mimetype": "text/x-python",
   "name": "python",
   "nbconvert_exporter": "python",
   "pygments_lexer": "ipython3",
   "version": "3.7.10"
  }
 },
 "nbformat": 4,
 "nbformat_minor": 5
}
